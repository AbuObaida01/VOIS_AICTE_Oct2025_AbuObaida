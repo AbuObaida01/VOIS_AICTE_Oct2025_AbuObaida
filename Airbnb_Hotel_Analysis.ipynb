{
  "nbformat": 4,
  "nbformat_minor": 0,
  "metadata": {
    "colab": {
      "provenance": [],
      "authorship_tag": "ABX9TyPcdA0Eo6dh2OzMoYaW+1fr",
      "include_colab_link": true
    },
    "kernelspec": {
      "name": "python3",
      "display_name": "Python 3"
    },
    "language_info": {
      "name": "python"
    }
  },
  "cells": [
    {
      "cell_type": "markdown",
      "metadata": {
        "id": "view-in-github",
        "colab_type": "text"
      },
      "source": [
        "<a href=\"https://colab.research.google.com/github/AbuObaida01/VOIS_AICTE_Oct2025_AbuObaida/blob/main/Airbnb_Hotel_Analysis.ipynb\" target=\"_parent\"><img src=\"https://colab.research.google.com/assets/colab-badge.svg\" alt=\"Open In Colab\"/></a>"
      ]
    },
    {
      "cell_type": "markdown",
      "source": [
        "## Importing Important Libraries and Loading the data\n",
        "###"
      ],
      "metadata": {
        "id": "3uSvVfljLQIp"
      }
    },
    {
      "cell_type": "code",
      "execution_count": null,
      "metadata": {
        "colab": {
          "base_uri": "https://localhost:8080/"
        },
        "id": "1bHFwZHVK2wh",
        "outputId": "f46e8d28-53b0-4de6-b63b-773c296715fb"
      },
      "outputs": [
        {
          "output_type": "stream",
          "name": "stdout",
          "text": [
            "Shape of the dataset (100000, 26)\n"
          ]
        }
      ],
      "source": [
        "import pandas as pd\n",
        "import matplotlib.pyplot as plt\n",
        "import seaborn as sns\n",
        "\n",
        "file_path = '/content/1730285881-Airbnb_Open_Data.xlsx'\n",
        "df = pd.read_excel(file_path, sheet_name='in', nrows=100000, dtype=str)\n",
        "print(\"Shape of the dataset\", df.shape)\n"
      ]
    },
    {
      "cell_type": "markdown",
      "source": [
        "## Getting A look at the data\n"
      ],
      "metadata": {
        "id": "hpw-mjYd9r6G"
      }
    },
    {
      "cell_type": "code",
      "source": [
        "df.info()\n"
      ],
      "metadata": {
        "colab": {
          "base_uri": "https://localhost:8080/"
        },
        "id": "IDqMkaeIMG3s",
        "outputId": "854d194c-80aa-490b-997c-b777bebb6722"
      },
      "execution_count": null,
      "outputs": [
        {
          "output_type": "stream",
          "name": "stdout",
          "text": [
            "<class 'pandas.core.frame.DataFrame'>\n",
            "RangeIndex: 100000 entries, 0 to 99999\n",
            "Data columns (total 26 columns):\n",
            " #   Column                          Non-Null Count   Dtype \n",
            "---  ------                          --------------   ----- \n",
            " 0   id                              100000 non-null  object\n",
            " 1   NAME                            99735 non-null   object\n",
            " 2   host id                         100000 non-null  object\n",
            " 3   host_identity_verified          99711 non-null   object\n",
            " 4   host name                       99607 non-null   object\n",
            " 5   neighbourhood group             99971 non-null   object\n",
            " 6   neighbourhood                   99984 non-null   object\n",
            " 7   lat                             99992 non-null   object\n",
            " 8   long                            99992 non-null   object\n",
            " 9   country                         99520 non-null   object\n",
            " 10  country code                    99883 non-null   object\n",
            " 11  instant_bookable                99895 non-null   object\n",
            " 12  cancellation_policy             99924 non-null   object\n",
            " 13  room type                       100000 non-null  object\n",
            " 14  Construction year               99798 non-null   object\n",
            " 15  price                           99759 non-null   object\n",
            " 16  service fee                     99747 non-null   object\n",
            " 17  minimum nights                  99600 non-null   object\n",
            " 18  number of reviews               99819 non-null   object\n",
            " 19  last review                     84515 non-null   object\n",
            " 20  reviews per month               84529 non-null   object\n",
            " 21  review rate number              99686 non-null   object\n",
            " 22  calculated host listings count  99704 non-null   object\n",
            " 23  availability 365                99552 non-null   object\n",
            " 24  house_rules                     46242 non-null   object\n",
            " 25  license                         2 non-null       object\n",
            "dtypes: object(26)\n",
            "memory usage: 19.8+ MB\n"
          ]
        }
      ]
    },
    {
      "cell_type": "markdown",
      "source": [
        "## Looking at first 5 rows\n"
      ],
      "metadata": {
        "id": "n3JF190I95aB"
      }
    },
    {
      "cell_type": "code",
      "source": [
        "df.head()\n"
      ],
      "metadata": {
        "colab": {
          "base_uri": "https://localhost:8080/",
          "height": 603
        },
        "id": "0x66oAV6MKKu",
        "outputId": "2a72580b-b05a-47ad-92a6-4bddf367c228"
      },
      "execution_count": null,
      "outputs": [
        {
          "output_type": "execute_result",
          "data": {
            "text/plain": [
              "        id                                              NAME      host id  \\\n",
              "0  1001254                Clean & quiet apt home by the park  80014485718   \n",
              "1  1002102                             Skylit Midtown Castle  52335172823   \n",
              "2  1002403               THE VILLAGE OF HARLEM....NEW YORK !  78829239556   \n",
              "3  1002755                                               NaN  85098326012   \n",
              "4  1003689  Entire Apt: Spacious Studio/Loft by central park  92037596077   \n",
              "\n",
              "  host_identity_verified host name neighbourhood group neighbourhood  \\\n",
              "0            unconfirmed  Madaline            Brooklyn    Kensington   \n",
              "1               verified     Jenna           Manhattan       Midtown   \n",
              "2                    NaN     Elise           Manhattan        Harlem   \n",
              "3            unconfirmed     Garry            Brooklyn  Clinton Hill   \n",
              "4               verified    Lyndon           Manhattan   East Harlem   \n",
              "\n",
              "        lat       long        country  ... service fee minimum nights  \\\n",
              "0  40.64749  -73.97237  United States  ...         193             10   \n",
              "1  40.75362  -73.98377  United States  ...          28             30   \n",
              "2  40.80902   -73.9419  United States  ...         124              3   \n",
              "3  40.68514  -73.95976  United States  ...          74             30   \n",
              "4  40.79851  -73.94399  United States  ...          41             10   \n",
              "\n",
              "  number of reviews          last review reviews per month review rate number  \\\n",
              "0                 9  2021-10-19 00:00:00              0.21                  4   \n",
              "1                45  2022-05-21 00:00:00              0.38                  4   \n",
              "2                 0                  NaN               NaN                  5   \n",
              "3               270  2019-07-05 00:00:00              4.64                  4   \n",
              "4                 9  2018-11-19 00:00:00               0.1                  3   \n",
              "\n",
              "  calculated host listings count availability 365  \\\n",
              "0                              6              286   \n",
              "1                              2              228   \n",
              "2                              1              352   \n",
              "3                              1              322   \n",
              "4                              1              289   \n",
              "\n",
              "                                         house_rules license  \n",
              "0  Clean up and treat the home the way you'd like...     NaN  \n",
              "1  Pet friendly but please confirm with me if the...     NaN  \n",
              "2  I encourage you to use my kitchen, cooking and...     NaN  \n",
              "3                                                NaN     NaN  \n",
              "4  Please no smoking in the house, porch or on th...     NaN  \n",
              "\n",
              "[5 rows x 26 columns]"
            ],
            "text/html": [
              "\n",
              "  <div id=\"df-ed0937b4-b26c-495f-936a-5f7f4936d174\" class=\"colab-df-container\">\n",
              "    <div>\n",
              "<style scoped>\n",
              "    .dataframe tbody tr th:only-of-type {\n",
              "        vertical-align: middle;\n",
              "    }\n",
              "\n",
              "    .dataframe tbody tr th {\n",
              "        vertical-align: top;\n",
              "    }\n",
              "\n",
              "    .dataframe thead th {\n",
              "        text-align: right;\n",
              "    }\n",
              "</style>\n",
              "<table border=\"1\" class=\"dataframe\">\n",
              "  <thead>\n",
              "    <tr style=\"text-align: right;\">\n",
              "      <th></th>\n",
              "      <th>id</th>\n",
              "      <th>NAME</th>\n",
              "      <th>host id</th>\n",
              "      <th>host_identity_verified</th>\n",
              "      <th>host name</th>\n",
              "      <th>neighbourhood group</th>\n",
              "      <th>neighbourhood</th>\n",
              "      <th>lat</th>\n",
              "      <th>long</th>\n",
              "      <th>country</th>\n",
              "      <th>...</th>\n",
              "      <th>service fee</th>\n",
              "      <th>minimum nights</th>\n",
              "      <th>number of reviews</th>\n",
              "      <th>last review</th>\n",
              "      <th>reviews per month</th>\n",
              "      <th>review rate number</th>\n",
              "      <th>calculated host listings count</th>\n",
              "      <th>availability 365</th>\n",
              "      <th>house_rules</th>\n",
              "      <th>license</th>\n",
              "    </tr>\n",
              "  </thead>\n",
              "  <tbody>\n",
              "    <tr>\n",
              "      <th>0</th>\n",
              "      <td>1001254</td>\n",
              "      <td>Clean &amp; quiet apt home by the park</td>\n",
              "      <td>80014485718</td>\n",
              "      <td>unconfirmed</td>\n",
              "      <td>Madaline</td>\n",
              "      <td>Brooklyn</td>\n",
              "      <td>Kensington</td>\n",
              "      <td>40.64749</td>\n",
              "      <td>-73.97237</td>\n",
              "      <td>United States</td>\n",
              "      <td>...</td>\n",
              "      <td>193</td>\n",
              "      <td>10</td>\n",
              "      <td>9</td>\n",
              "      <td>2021-10-19 00:00:00</td>\n",
              "      <td>0.21</td>\n",
              "      <td>4</td>\n",
              "      <td>6</td>\n",
              "      <td>286</td>\n",
              "      <td>Clean up and treat the home the way you'd like...</td>\n",
              "      <td>NaN</td>\n",
              "    </tr>\n",
              "    <tr>\n",
              "      <th>1</th>\n",
              "      <td>1002102</td>\n",
              "      <td>Skylit Midtown Castle</td>\n",
              "      <td>52335172823</td>\n",
              "      <td>verified</td>\n",
              "      <td>Jenna</td>\n",
              "      <td>Manhattan</td>\n",
              "      <td>Midtown</td>\n",
              "      <td>40.75362</td>\n",
              "      <td>-73.98377</td>\n",
              "      <td>United States</td>\n",
              "      <td>...</td>\n",
              "      <td>28</td>\n",
              "      <td>30</td>\n",
              "      <td>45</td>\n",
              "      <td>2022-05-21 00:00:00</td>\n",
              "      <td>0.38</td>\n",
              "      <td>4</td>\n",
              "      <td>2</td>\n",
              "      <td>228</td>\n",
              "      <td>Pet friendly but please confirm with me if the...</td>\n",
              "      <td>NaN</td>\n",
              "    </tr>\n",
              "    <tr>\n",
              "      <th>2</th>\n",
              "      <td>1002403</td>\n",
              "      <td>THE VILLAGE OF HARLEM....NEW YORK !</td>\n",
              "      <td>78829239556</td>\n",
              "      <td>NaN</td>\n",
              "      <td>Elise</td>\n",
              "      <td>Manhattan</td>\n",
              "      <td>Harlem</td>\n",
              "      <td>40.80902</td>\n",
              "      <td>-73.9419</td>\n",
              "      <td>United States</td>\n",
              "      <td>...</td>\n",
              "      <td>124</td>\n",
              "      <td>3</td>\n",
              "      <td>0</td>\n",
              "      <td>NaN</td>\n",
              "      <td>NaN</td>\n",
              "      <td>5</td>\n",
              "      <td>1</td>\n",
              "      <td>352</td>\n",
              "      <td>I encourage you to use my kitchen, cooking and...</td>\n",
              "      <td>NaN</td>\n",
              "    </tr>\n",
              "    <tr>\n",
              "      <th>3</th>\n",
              "      <td>1002755</td>\n",
              "      <td>NaN</td>\n",
              "      <td>85098326012</td>\n",
              "      <td>unconfirmed</td>\n",
              "      <td>Garry</td>\n",
              "      <td>Brooklyn</td>\n",
              "      <td>Clinton Hill</td>\n",
              "      <td>40.68514</td>\n",
              "      <td>-73.95976</td>\n",
              "      <td>United States</td>\n",
              "      <td>...</td>\n",
              "      <td>74</td>\n",
              "      <td>30</td>\n",
              "      <td>270</td>\n",
              "      <td>2019-07-05 00:00:00</td>\n",
              "      <td>4.64</td>\n",
              "      <td>4</td>\n",
              "      <td>1</td>\n",
              "      <td>322</td>\n",
              "      <td>NaN</td>\n",
              "      <td>NaN</td>\n",
              "    </tr>\n",
              "    <tr>\n",
              "      <th>4</th>\n",
              "      <td>1003689</td>\n",
              "      <td>Entire Apt: Spacious Studio/Loft by central park</td>\n",
              "      <td>92037596077</td>\n",
              "      <td>verified</td>\n",
              "      <td>Lyndon</td>\n",
              "      <td>Manhattan</td>\n",
              "      <td>East Harlem</td>\n",
              "      <td>40.79851</td>\n",
              "      <td>-73.94399</td>\n",
              "      <td>United States</td>\n",
              "      <td>...</td>\n",
              "      <td>41</td>\n",
              "      <td>10</td>\n",
              "      <td>9</td>\n",
              "      <td>2018-11-19 00:00:00</td>\n",
              "      <td>0.1</td>\n",
              "      <td>3</td>\n",
              "      <td>1</td>\n",
              "      <td>289</td>\n",
              "      <td>Please no smoking in the house, porch or on th...</td>\n",
              "      <td>NaN</td>\n",
              "    </tr>\n",
              "  </tbody>\n",
              "</table>\n",
              "<p>5 rows × 26 columns</p>\n",
              "</div>\n",
              "    <div class=\"colab-df-buttons\">\n",
              "\n",
              "  <div class=\"colab-df-container\">\n",
              "    <button class=\"colab-df-convert\" onclick=\"convertToInteractive('df-ed0937b4-b26c-495f-936a-5f7f4936d174')\"\n",
              "            title=\"Convert this dataframe to an interactive table.\"\n",
              "            style=\"display:none;\">\n",
              "\n",
              "  <svg xmlns=\"http://www.w3.org/2000/svg\" height=\"24px\" viewBox=\"0 -960 960 960\">\n",
              "    <path d=\"M120-120v-720h720v720H120Zm60-500h600v-160H180v160Zm220 220h160v-160H400v160Zm0 220h160v-160H400v160ZM180-400h160v-160H180v160Zm440 0h160v-160H620v160ZM180-180h160v-160H180v160Zm440 0h160v-160H620v160Z\"/>\n",
              "  </svg>\n",
              "    </button>\n",
              "\n",
              "  <style>\n",
              "    .colab-df-container {\n",
              "      display:flex;\n",
              "      gap: 12px;\n",
              "    }\n",
              "\n",
              "    .colab-df-convert {\n",
              "      background-color: #E8F0FE;\n",
              "      border: none;\n",
              "      border-radius: 50%;\n",
              "      cursor: pointer;\n",
              "      display: none;\n",
              "      fill: #1967D2;\n",
              "      height: 32px;\n",
              "      padding: 0 0 0 0;\n",
              "      width: 32px;\n",
              "    }\n",
              "\n",
              "    .colab-df-convert:hover {\n",
              "      background-color: #E2EBFA;\n",
              "      box-shadow: 0px 1px 2px rgba(60, 64, 67, 0.3), 0px 1px 3px 1px rgba(60, 64, 67, 0.15);\n",
              "      fill: #174EA6;\n",
              "    }\n",
              "\n",
              "    .colab-df-buttons div {\n",
              "      margin-bottom: 4px;\n",
              "    }\n",
              "\n",
              "    [theme=dark] .colab-df-convert {\n",
              "      background-color: #3B4455;\n",
              "      fill: #D2E3FC;\n",
              "    }\n",
              "\n",
              "    [theme=dark] .colab-df-convert:hover {\n",
              "      background-color: #434B5C;\n",
              "      box-shadow: 0px 1px 3px 1px rgba(0, 0, 0, 0.15);\n",
              "      filter: drop-shadow(0px 1px 2px rgba(0, 0, 0, 0.3));\n",
              "      fill: #FFFFFF;\n",
              "    }\n",
              "  </style>\n",
              "\n",
              "    <script>\n",
              "      const buttonEl =\n",
              "        document.querySelector('#df-ed0937b4-b26c-495f-936a-5f7f4936d174 button.colab-df-convert');\n",
              "      buttonEl.style.display =\n",
              "        google.colab.kernel.accessAllowed ? 'block' : 'none';\n",
              "\n",
              "      async function convertToInteractive(key) {\n",
              "        const element = document.querySelector('#df-ed0937b4-b26c-495f-936a-5f7f4936d174');\n",
              "        const dataTable =\n",
              "          await google.colab.kernel.invokeFunction('convertToInteractive',\n",
              "                                                    [key], {});\n",
              "        if (!dataTable) return;\n",
              "\n",
              "        const docLinkHtml = 'Like what you see? Visit the ' +\n",
              "          '<a target=\"_blank\" href=https://colab.research.google.com/notebooks/data_table.ipynb>data table notebook</a>'\n",
              "          + ' to learn more about interactive tables.';\n",
              "        element.innerHTML = '';\n",
              "        dataTable['output_type'] = 'display_data';\n",
              "        await google.colab.output.renderOutput(dataTable, element);\n",
              "        const docLink = document.createElement('div');\n",
              "        docLink.innerHTML = docLinkHtml;\n",
              "        element.appendChild(docLink);\n",
              "      }\n",
              "    </script>\n",
              "  </div>\n",
              "\n",
              "\n",
              "    <div id=\"df-d5dd3465-fec2-4a21-a935-93c83d5cde2f\">\n",
              "      <button class=\"colab-df-quickchart\" onclick=\"quickchart('df-d5dd3465-fec2-4a21-a935-93c83d5cde2f')\"\n",
              "                title=\"Suggest charts\"\n",
              "                style=\"display:none;\">\n",
              "\n",
              "<svg xmlns=\"http://www.w3.org/2000/svg\" height=\"24px\"viewBox=\"0 0 24 24\"\n",
              "     width=\"24px\">\n",
              "    <g>\n",
              "        <path d=\"M19 3H5c-1.1 0-2 .9-2 2v14c0 1.1.9 2 2 2h14c1.1 0 2-.9 2-2V5c0-1.1-.9-2-2-2zM9 17H7v-7h2v7zm4 0h-2V7h2v10zm4 0h-2v-4h2v4z\"/>\n",
              "    </g>\n",
              "</svg>\n",
              "      </button>\n",
              "\n",
              "<style>\n",
              "  .colab-df-quickchart {\n",
              "      --bg-color: #E8F0FE;\n",
              "      --fill-color: #1967D2;\n",
              "      --hover-bg-color: #E2EBFA;\n",
              "      --hover-fill-color: #174EA6;\n",
              "      --disabled-fill-color: #AAA;\n",
              "      --disabled-bg-color: #DDD;\n",
              "  }\n",
              "\n",
              "  [theme=dark] .colab-df-quickchart {\n",
              "      --bg-color: #3B4455;\n",
              "      --fill-color: #D2E3FC;\n",
              "      --hover-bg-color: #434B5C;\n",
              "      --hover-fill-color: #FFFFFF;\n",
              "      --disabled-bg-color: #3B4455;\n",
              "      --disabled-fill-color: #666;\n",
              "  }\n",
              "\n",
              "  .colab-df-quickchart {\n",
              "    background-color: var(--bg-color);\n",
              "    border: none;\n",
              "    border-radius: 50%;\n",
              "    cursor: pointer;\n",
              "    display: none;\n",
              "    fill: var(--fill-color);\n",
              "    height: 32px;\n",
              "    padding: 0;\n",
              "    width: 32px;\n",
              "  }\n",
              "\n",
              "  .colab-df-quickchart:hover {\n",
              "    background-color: var(--hover-bg-color);\n",
              "    box-shadow: 0 1px 2px rgba(60, 64, 67, 0.3), 0 1px 3px 1px rgba(60, 64, 67, 0.15);\n",
              "    fill: var(--button-hover-fill-color);\n",
              "  }\n",
              "\n",
              "  .colab-df-quickchart-complete:disabled,\n",
              "  .colab-df-quickchart-complete:disabled:hover {\n",
              "    background-color: var(--disabled-bg-color);\n",
              "    fill: var(--disabled-fill-color);\n",
              "    box-shadow: none;\n",
              "  }\n",
              "\n",
              "  .colab-df-spinner {\n",
              "    border: 2px solid var(--fill-color);\n",
              "    border-color: transparent;\n",
              "    border-bottom-color: var(--fill-color);\n",
              "    animation:\n",
              "      spin 1s steps(1) infinite;\n",
              "  }\n",
              "\n",
              "  @keyframes spin {\n",
              "    0% {\n",
              "      border-color: transparent;\n",
              "      border-bottom-color: var(--fill-color);\n",
              "      border-left-color: var(--fill-color);\n",
              "    }\n",
              "    20% {\n",
              "      border-color: transparent;\n",
              "      border-left-color: var(--fill-color);\n",
              "      border-top-color: var(--fill-color);\n",
              "    }\n",
              "    30% {\n",
              "      border-color: transparent;\n",
              "      border-left-color: var(--fill-color);\n",
              "      border-top-color: var(--fill-color);\n",
              "      border-right-color: var(--fill-color);\n",
              "    }\n",
              "    40% {\n",
              "      border-color: transparent;\n",
              "      border-right-color: var(--fill-color);\n",
              "      border-top-color: var(--fill-color);\n",
              "    }\n",
              "    60% {\n",
              "      border-color: transparent;\n",
              "      border-right-color: var(--fill-color);\n",
              "    }\n",
              "    80% {\n",
              "      border-color: transparent;\n",
              "      border-right-color: var(--fill-color);\n",
              "      border-bottom-color: var(--fill-color);\n",
              "    }\n",
              "    90% {\n",
              "      border-color: transparent;\n",
              "      border-bottom-color: var(--fill-color);\n",
              "    }\n",
              "  }\n",
              "</style>\n",
              "\n",
              "      <script>\n",
              "        async function quickchart(key) {\n",
              "          const quickchartButtonEl =\n",
              "            document.querySelector('#' + key + ' button');\n",
              "          quickchartButtonEl.disabled = true;  // To prevent multiple clicks.\n",
              "          quickchartButtonEl.classList.add('colab-df-spinner');\n",
              "          try {\n",
              "            const charts = await google.colab.kernel.invokeFunction(\n",
              "                'suggestCharts', [key], {});\n",
              "          } catch (error) {\n",
              "            console.error('Error during call to suggestCharts:', error);\n",
              "          }\n",
              "          quickchartButtonEl.classList.remove('colab-df-spinner');\n",
              "          quickchartButtonEl.classList.add('colab-df-quickchart-complete');\n",
              "        }\n",
              "        (() => {\n",
              "          let quickchartButtonEl =\n",
              "            document.querySelector('#df-d5dd3465-fec2-4a21-a935-93c83d5cde2f button');\n",
              "          quickchartButtonEl.style.display =\n",
              "            google.colab.kernel.accessAllowed ? 'block' : 'none';\n",
              "        })();\n",
              "      </script>\n",
              "    </div>\n",
              "\n",
              "    </div>\n",
              "  </div>\n"
            ],
            "application/vnd.google.colaboratory.intrinsic+json": {
              "type": "dataframe",
              "variable_name": "df"
            }
          },
          "metadata": {},
          "execution_count": 13
        }
      ]
    },
    {
      "cell_type": "markdown",
      "source": [
        "## Calculating the missing values\n"
      ],
      "metadata": {
        "id": "hd2uxV83-JTY"
      }
    },
    {
      "cell_type": "code",
      "source": [
        "missing_values = df.isnull().sum()\n",
        "print(missing_values[missing_values > 0])\n"
      ],
      "metadata": {
        "colab": {
          "base_uri": "https://localhost:8080/"
        },
        "id": "GTm1lcPrMNaR",
        "outputId": "4b856e98-5df2-4ffe-d835-f6b46d9ef9a7"
      },
      "execution_count": null,
      "outputs": [
        {
          "output_type": "stream",
          "name": "stdout",
          "text": [
            "NAME                                265\n",
            "host_identity_verified              289\n",
            "host name                           393\n",
            "neighbourhood group                  29\n",
            "neighbourhood                        16\n",
            "lat                                   8\n",
            "long                                  8\n",
            "country                             480\n",
            "country code                        117\n",
            "instant_bookable                    105\n",
            "cancellation_policy                  76\n",
            "Construction year                   202\n",
            "price                               241\n",
            "service fee                         253\n",
            "minimum nights                      400\n",
            "number of reviews                   181\n",
            "last review                       15485\n",
            "reviews per month                 15471\n",
            "review rate number                  314\n",
            "calculated host listings count      296\n",
            "availability 365                    448\n",
            "house_rules                       53758\n",
            "license                           99998\n",
            "dtype: int64\n"
          ]
        }
      ]
    },
    {
      "cell_type": "code",
      "source": [
        "if 'license' in df.columns:\n",
        "    df.drop(columns=['license'], inplace=True)\n",
        "    print(\"Dropped 'license' column.\")\n",
        "\n",
        "for col in ['price', 'service fee']:\n",
        "    if col in df.columns:\n",
        "        df[col] = df[col].astype(str).str.replace(r'[$,]', '', regex=True)\n",
        "        df[col] = pd.to_numeric(df[col], errors='coerce')\n",
        "        print(f\"Cleaned and converted '{col}' to a numeric type.\")\n",
        "\n",
        "\n",
        "for col in ['lat', 'long', 'Construction year', 'minimum nights', 'number of reviews', 'reviews per month', 'review rate number', 'calculated host listings count', 'availability 365']:\n",
        "    if col in df.columns:\n",
        "        df[col] = pd.to_numeric(df[col], errors='coerce')\n",
        "\n",
        "if 'last review' in df.columns:\n",
        "    df['last review'] = pd.to_datetime(df['last review'], errors='coerce')\n",
        "    print(\"Converted 'last review' to a datetime type.\")\n"
      ],
      "metadata": {
        "colab": {
          "base_uri": "https://localhost:8080/"
        },
        "id": "29ZyMqKoMc0H",
        "outputId": "c8d8514e-412a-4110-b76c-53a29206e295"
      },
      "execution_count": null,
      "outputs": [
        {
          "output_type": "stream",
          "name": "stdout",
          "text": [
            "Cleaned and converted 'price' to a numeric type.\n",
            "Cleaned and converted 'service fee' to a numeric type.\n",
            "Converted 'last review' to a datetime type.\n"
          ]
        }
      ]
    },
    {
      "cell_type": "code",
      "source": [
        "if 'license' in df.columns:\n",
        "    df.drop(columns=['license'], inplace=True)\n",
        "    print(\"Dropped 'license' column.\")\n",
        "\n",
        "for col in ['price', 'service fee']:\n",
        "    if col in df.columns:\n",
        "        df[col] = df[col].astype(str).str.replace(r'[$,]', '', regex=True)\n",
        "        df[col] = pd.to_numeric(df[col], errors='coerce')\n",
        "        print(f\"Converted '{col}' to numeric.\")\n",
        "\n",
        "numeric_cols = ['lat', 'long', 'Construction year', 'minimum nights', 'number of reviews',\n",
        "                'reviews per month', 'review rate number', 'calculated host listings count',\n",
        "                'availability 365']\n",
        "for col in numeric_cols:\n",
        "    if col in df.columns:\n",
        "        df[col] = pd.to_numeric(df[col], errors='coerce')\n",
        "\n",
        "if 'last review' in df.columns:\n",
        "    df['last review'] = pd.to_datetime(df['last review'], errors='coerce')\n",
        "\n",
        "print(\"Converted all other numeric and date columns.\")\n",
        "\n",
        "numeric_fill_cols = ['price', 'service fee', 'lat', 'long', 'Construction year', 'minimum nights',\n",
        "                     'number of reviews', 'reviews per month', 'review rate number',\n",
        "                     'calculated host listings count', 'availability 365']\n",
        "for col in numeric_fill_cols:\n",
        "    if col in df.columns:\n",
        "        median_val = df[col].median()\n",
        "        df[col] = df[col].fillna(median_val)\n",
        "\n",
        "print(\"Filled missing values in all numeric columns with their median.\")\n",
        "\n",
        "categorical_cols = ['NAME', 'host_identity_verified', 'host name', 'neighbourhood group',\n",
        "                    'neighbourhood', 'country', 'country code', 'instant_bookable',\n",
        "                    'cancellation_policy', 'room type', 'house_rules']\n",
        "for col in categorical_cols:\n",
        "    if col in df.columns:\n",
        "        df[col] = df[col].fillna('Unknown')\n",
        "\n",
        "print(\"Filled missing values in all categorical columns with 'Unknown'.\")\n",
        "\n",
        "\n",
        "if 'last review' in df.columns:\n",
        "    df['last review'] = df['last review'].fillna(pd.Timestamp('1970-01-01'))\n",
        "    print(\"Filled missing 'last review' dates with a placeholder (1970-01-01).\")\n",
        "\n",
        "remaining_missing = df.isnull().sum().sum()\n",
        "if remaining_missing == 0:\n",
        "    print(\"\\nSuccess! All missing values have been handled.\")\n",
        "else:\n",
        "    print(f\"\\nWarning: There are still {remaining_missing} missing values remaining.\")\n",
        "\n"
      ],
      "metadata": {
        "colab": {
          "base_uri": "https://localhost:8080/"
        },
        "id": "kdEOokVoMhJr",
        "outputId": "e5912ca0-ff5d-4879-a8c4-b2d0192b2437"
      },
      "execution_count": null,
      "outputs": [
        {
          "output_type": "stream",
          "name": "stdout",
          "text": [
            "Converted 'price' to numeric.\n",
            "Converted 'service fee' to numeric.\n",
            "Converted all other numeric and date columns.\n",
            "Filled missing values in all numeric columns with their median.\n",
            "Filled missing values in all categorical columns with 'Unknown'.\n",
            "Filled missing 'last review' dates with a placeholder (1970-01-01).\n",
            "\n",
            "Success! All missing values have been handled.\n"
          ]
        }
      ]
    },
    {
      "cell_type": "code",
      "source": [
        "missing_values = df.isnull().sum()\n",
        "\n",
        "print(missing_values[missing_values > 0])\n"
      ],
      "metadata": {
        "colab": {
          "base_uri": "https://localhost:8080/"
        },
        "id": "wBI1IbTxNbmm",
        "outputId": "fd229324-bc77-41fd-b55e-864716e64008"
      },
      "execution_count": null,
      "outputs": [
        {
          "output_type": "stream",
          "name": "stdout",
          "text": [
            "Series([], dtype: int64)\n"
          ]
        }
      ]
    },
    {
      "cell_type": "markdown",
      "source": [
        "## Result 1\n"
      ],
      "metadata": {
        "id": "Aag-scprIeb1"
      }
    },
    {
      "cell_type": "code",
      "source": [
        "plt.figure(figsize=(12, 6))\n",
        "sns.histplot(df['price'], bins=50, kde=True)\n",
        "plt.title('Distribution of Airbnb Listing Prices', fontsize=16)\n",
        "plt.xlabel('Price ($)', fontsize=12)\n",
        "plt.ylabel('Number of Listings', fontsize=12)\n",
        "plt.xlim(0, 1200)\n",
        "plt.show()\n"
      ],
      "metadata": {
        "colab": {
          "base_uri": "https://localhost:8080/",
          "height": 570
        },
        "id": "uuxyfQQHRUAv",
        "outputId": "0df50b17-535a-42dd-e6a3-cc311937641b"
      },
      "execution_count": null,
      "outputs": [
        {
          "output_type": "display_data",
          "data": {
            "text/plain": [
              "<Figure size 1200x600 with 1 Axes>"
            ],
            "image/png": "[encoded data removed]"
          },
          "metadata": {}
        }
      ]
    },
    {
      "cell_type": "markdown",
      "source": [
        "## Result 2"
      ],
      "metadata": {
        "id": "0UsTT5XZIh-A"
      }
    },
    {
      "cell_type": "code",
      "source": [
        "plt.figure(figsize=(10, 6))\n",
        "sns.countplot(y='room type', data=df, order=df['room type'].value_counts().index)\n",
        "plt.title('Number of Listings by Room Type', fontsize=16)\n",
        "plt.xlabel('Number of Listings', fontsize=12)\n",
        "plt.ylabel('Room Type', fontsize=12)\n",
        "plt.show()\n"
      ],
      "metadata": {
        "colab": {
          "base_uri": "https://localhost:8080/",
          "height": 570
        },
        "id": "NpQEJXN_RoKq",
        "outputId": "1945cc5e-1bf2-4f0a-aa06-5750602f8a52"
      },
      "execution_count": null,
      "outputs": [
        {
          "output_type": "display_data",
          "data": {
            "text/plain": [
              "<Figure size 1000x600 with 1 Axes>"
            ],
            "image/png": "[encoded data removed]"
          },
          "metadata": {}
        }
      ]
    },
    {
      "cell_type": "markdown",
      "source": [
        "## Result3"
      ],
      "metadata": {
        "id": "bFZY8uyoIkfi"
      }
    },
    {
      "cell_type": "code",
      "source": [
        "plt.figure(figsize=(12, 7))\n",
        "sns.boxplot(y='neighbourhood group', x='price', data=df, order=df['neighbourhood group'].value_counts().index)\n",
        "plt.title('Price Distribution by Neighbourhood Group', fontsize=16)\n",
        "plt.xlabel('Price ($)', fontsize=12)\n",
        "plt.ylabel('Neighbourhood Group', fontsize=12)\n",
        "plt.xlim(0, 1200)\n",
        "plt.show()\n"
      ],
      "metadata": {
        "id": "huGAEIhMTNzm",
        "outputId": "96924f37-93a1-4826-896d-cab1cf383e87",
        "colab": {
          "base_uri": "https://localhost:8080/",
          "height": 647
        }
      },
      "execution_count": null,
      "outputs": [
        {
          "output_type": "display_data",
          "data": {
            "text/plain": [
              "<Figure size 1200x700 with 1 Axes>"
            ],
            "image/png": "[encoded data removed]"
          },
          "metadata": {}
        }
      ]
    }
  ]
}